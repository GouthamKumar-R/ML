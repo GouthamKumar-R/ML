{
 "cells": [
  {
   "cell_type": "code",
   "execution_count": 1,
   "metadata": {
    "ExecuteTime": {
     "end_time": "2021-02-09T04:11:24.003546Z",
     "start_time": "2021-02-09T04:11:13.722591Z"
    }
   },
   "outputs": [
    {
     "name": "stdout",
     "output_type": "stream",
     "text": [
      "wait for it ...\n",
      " ... \n",
      "Requirement already satisfied: netCDF4 in c:\\users\\goutham-rog\\anaconda3\\lib\\site-packages (1.5.5.1)\n",
      "Requirement already satisfied: numpy>=1.9 in c:\\users\\goutham-rog\\anaconda3\\lib\\site-packages (from netCDF4) (1.18.5)\n",
      "Requirement already satisfied: cftime in c:\\users\\goutham-rog\\anaconda3\\lib\\site-packages (from netCDF4) (1.3.1)\n"
     ]
    },
    {
     "name": "stderr",
     "output_type": "stream",
     "text": [
      "'apt-get' is not recognized as an internal or external command,\n",
      "operable program or batch file.\n",
      "ERROR: Invalid requirement: '#'\n"
     ]
    },
    {
     "name": "stdout",
     "output_type": "stream",
     "text": [
      "Requirement already satisfied: shapely in c:\\users\\goutham-rog\\anaconda3\\lib\\site-packages (1.7.1)\n",
      " ... \n",
      "... and ... done!\n"
     ]
    }
   ],
   "source": [
    "#importing what we'll need\n",
    "print(\"wait for it ...\")\n",
    "print(\" ... \")\n",
    "import numpy as np\n",
    "import pandas as pd\n",
    "%matplotlib inline\n",
    "import matplotlib.pyplot as plt\n",
    "pd.options.display.max_columns = 25\n",
    "import warnings\n",
    "warnings.filterwarnings('ignore')\n",
    "\n",
    "\n",
    "!pip install netCDF4\n",
    "\n",
    "from netCDF4 import Dataset\n",
    "import numpy as np\n",
    "\n",
    "\n",
    "#Colab requires specific installation of cartopy\n",
    "#!apt-get install libproj-dev proj-data proj-bin\n",
    "#!apt-get install libgeos-dev\n",
    "#!pip install cython\n",
    "#!pip install cartopy\n",
    "!apt-get -qq install python-cartopy python3-cartopy;\n",
    "!pip uninstall -y shapely;    # cartopy and shapely aren't friends (early 2020)\n",
    "!pip install shapely --no-binary shapely;\n",
    "import cartopy.crs as ccrs\n",
    "import cartopy.feature as cfeature\n",
    "from cartopy.mpl.ticker import LongitudeFormatter, LatitudeFormatter\n",
    "\n",
    "\n",
    "print(\" ... \")\n",
    "print(\"... and ... done!\")"
   ]
  },
  {
   "cell_type": "code",
   "execution_count": 2,
   "metadata": {
    "ExecuteTime": {
     "end_time": "2021-02-09T04:11:28.942514Z",
     "start_time": "2021-02-09T04:11:28.922557Z"
    }
   },
   "outputs": [],
   "source": [
    "\n",
    "#fn for plots\n",
    "def plotContour(filename,i):\n",
    "    fh = Dataset(filename, mode='r')\n",
    "\n",
    "    longitude = fh.variables[\"lon\"][:]\n",
    "    latitude = fh.variables[\"lat\"][:]\n",
    "    sst = fh.variables[\"sst\"][:]\n",
    "\n",
    "    lon,lat = np.meshgrid(longitude,latitude)\n",
    "\n",
    "    fig, axs = plt.subplots(9,8, constrained_layout=True)\n",
    "    ax = plt.axes(projection=ccrs.PlateCarree())\n",
    "    ax.coastlines()\n",
    "    cs = plt.contourf(lon, lat, sst,transform=ccrs.PlateCarree())\n",
    "    fig.colorbar(cs, ax=ax, shrink=0.9)\n",
    "\n",
    "    plt.savefig(filename + \"pic-\"+ str(i)+\".jpg\")\n",
    "    plt.clf()\n",
    "    \n",
    "\n",
    "def createImages(work_dir):\n",
    "    for i in range(3,20):\n",
    "        if(i<10):\n",
    "            #change the address according to the folders\n",
    "            dataset = work_dir + \"\\Data\\sst_january_2003-2019\\AQUA_MODIS.200\" + str(i) + \"0101_200\" + str(i) + \"0131.L3m.MO.SST.x_sst.nc\"\n",
    "        else: \n",
    "            dataset = work_dir + \"\\Data\\sst_january_2003-2019\\AQUA_MODIS.20\" + str(i) + \"0101_20\" + str(i) + \"0131.L3m.MO.SST.x_sst.nc\"\n",
    "        plotContour(dataset,i)\n",
    "    return\n",
    "\n",
    "\n",
    "import PIL\n",
    "\n",
    "def createGIF(work_dir):    \n",
    "    image_frames = [] # creating a empty list to be appended later on\n",
    "\n",
    "    for i in range(3,20):\n",
    "        if(i<10):\n",
    "            dataset = work_dir + \"\\Data\\sst_january_2003-2019\\AQUA_MODIS.200\" + str(i) + \"0101_200\" + str(i) + \"0131.L3m.MO.SST.x_sst.nc\"\n",
    "        else: \n",
    "            dataset = work_dir + \"\\Data\\sst_january_2003-2019\\AQUA_MODIS.20\" + str(i) + \"0101_20\" + str(i) + \"0131.L3m.MO.SST.x_sst.nc\"    \n",
    "      \n",
    "        new_fram = PIL.Image.open(dataset + \"pic-\"+ str(i) +'.jpg') \n",
    "        image_frames.append(new_fram)\n",
    "\n",
    "    image_frames[0].save('tave_timelapse.gif',format='GIF',\n",
    "                      append_images = image_frames[1: ],\n",
    "                      save_all = True, duration = 100,\n",
    "                      loop = 0)\n",
    "    return\n",
    "\n"
   ]
  },
  {
   "cell_type": "code",
   "execution_count": 3,
   "metadata": {
    "ExecuteTime": {
     "end_time": "2021-02-09T04:13:46.473716Z",
     "start_time": "2021-02-09T04:11:38.132529Z"
    }
   },
   "outputs": [
    {
     "data": {
      "text/plain": [
       "<Figure size 432x288 with 0 Axes>"
      ]
     },
     "metadata": {},
     "output_type": "display_data"
    },
    {
     "data": {
      "text/plain": [
       "<Figure size 432x288 with 0 Axes>"
      ]
     },
     "metadata": {},
     "output_type": "display_data"
    },
    {
     "data": {
      "text/plain": [
       "<Figure size 432x288 with 0 Axes>"
      ]
     },
     "metadata": {},
     "output_type": "display_data"
    },
    {
     "data": {
      "text/plain": [
       "<Figure size 432x288 with 0 Axes>"
      ]
     },
     "metadata": {},
     "output_type": "display_data"
    },
    {
     "data": {
      "text/plain": [
       "<Figure size 432x288 with 0 Axes>"
      ]
     },
     "metadata": {},
     "output_type": "display_data"
    },
    {
     "data": {
      "text/plain": [
       "<Figure size 432x288 with 0 Axes>"
      ]
     },
     "metadata": {},
     "output_type": "display_data"
    },
    {
     "data": {
      "text/plain": [
       "<Figure size 432x288 with 0 Axes>"
      ]
     },
     "metadata": {},
     "output_type": "display_data"
    },
    {
     "data": {
      "text/plain": [
       "<Figure size 432x288 with 0 Axes>"
      ]
     },
     "metadata": {},
     "output_type": "display_data"
    },
    {
     "data": {
      "text/plain": [
       "<Figure size 432x288 with 0 Axes>"
      ]
     },
     "metadata": {},
     "output_type": "display_data"
    },
    {
     "data": {
      "text/plain": [
       "<Figure size 432x288 with 0 Axes>"
      ]
     },
     "metadata": {},
     "output_type": "display_data"
    },
    {
     "data": {
      "text/plain": [
       "<Figure size 432x288 with 0 Axes>"
      ]
     },
     "metadata": {},
     "output_type": "display_data"
    },
    {
     "data": {
      "text/plain": [
       "<Figure size 432x288 with 0 Axes>"
      ]
     },
     "metadata": {},
     "output_type": "display_data"
    },
    {
     "data": {
      "text/plain": [
       "<Figure size 432x288 with 0 Axes>"
      ]
     },
     "metadata": {},
     "output_type": "display_data"
    },
    {
     "data": {
      "text/plain": [
       "<Figure size 432x288 with 0 Axes>"
      ]
     },
     "metadata": {},
     "output_type": "display_data"
    },
    {
     "data": {
      "text/plain": [
       "<Figure size 432x288 with 0 Axes>"
      ]
     },
     "metadata": {},
     "output_type": "display_data"
    },
    {
     "data": {
      "text/plain": [
       "<Figure size 432x288 with 0 Axes>"
      ]
     },
     "metadata": {},
     "output_type": "display_data"
    },
    {
     "data": {
      "text/plain": [
       "<Figure size 432x288 with 0 Axes>"
      ]
     },
     "metadata": {},
     "output_type": "display_data"
    }
   ],
   "source": [
    "work_dir = os.getcwd() \n",
    "#plots will be saved in the data\\sst_** folder\n",
    "createImages(work_dir)\n",
    "createGIF(work_dir)"
   ]
  },
  {
   "cell_type": "code",
   "execution_count": null,
   "metadata": {},
   "outputs": [],
   "source": []
  }
 ],
 "metadata": {
  "kernelspec": {
   "display_name": "Python 3",
   "language": "python",
   "name": "python3"
  },
  "language_info": {
   "codemirror_mode": {
    "name": "ipython",
    "version": 3
   },
   "file_extension": ".py",
   "mimetype": "text/x-python",
   "name": "python",
   "nbconvert_exporter": "python",
   "pygments_lexer": "ipython3",
   "version": "3.8.3"
  },
  "toc": {
   "base_numbering": 1,
   "nav_menu": {},
   "number_sections": true,
   "sideBar": true,
   "skip_h1_title": true,
   "title_cell": "Table of Contents",
   "title_sidebar": "Contents",
   "toc_cell": true,
   "toc_position": {
    "height": "calc(100% - 180px)",
    "left": "10px",
    "top": "150px",
    "width": "384px"
   },
   "toc_section_display": true,
   "toc_window_display": true
  }
 },
 "nbformat": 4,
 "nbformat_minor": 4
}
