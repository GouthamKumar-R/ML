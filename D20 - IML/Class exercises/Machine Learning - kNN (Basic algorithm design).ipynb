{
 "cells": [
  {
   "cell_type": "markdown",
   "metadata": {},
   "source": [
    "## 1-NN"
   ]
  },
  {
   "cell_type": "code",
   "execution_count": 16,
   "metadata": {},
   "outputs": [
    {
     "data": {
      "text/html": [
       "<div>\n",
       "<style scoped>\n",
       "    .dataframe tbody tr th:only-of-type {\n",
       "        vertical-align: middle;\n",
       "    }\n",
       "\n",
       "    .dataframe tbody tr th {\n",
       "        vertical-align: top;\n",
       "    }\n",
       "\n",
       "    .dataframe thead th {\n",
       "        text-align: right;\n",
       "    }\n",
       "</style>\n",
       "<table border=\"1\" class=\"dataframe\">\n",
       "  <thead>\n",
       "    <tr style=\"text-align: right;\">\n",
       "      <th></th>\n",
       "      <th>X</th>\n",
       "      <th>Y</th>\n",
       "    </tr>\n",
       "  </thead>\n",
       "  <tbody>\n",
       "    <tr>\n",
       "      <th>0</th>\n",
       "      <td>1</td>\n",
       "      <td>11</td>\n",
       "    </tr>\n",
       "    <tr>\n",
       "      <th>1</th>\n",
       "      <td>2</td>\n",
       "      <td>15</td>\n",
       "    </tr>\n",
       "    <tr>\n",
       "      <th>2</th>\n",
       "      <td>4</td>\n",
       "      <td>21</td>\n",
       "    </tr>\n",
       "    <tr>\n",
       "      <th>3</th>\n",
       "      <td>7</td>\n",
       "      <td>30</td>\n",
       "    </tr>\n",
       "    <tr>\n",
       "      <th>4</th>\n",
       "      <td>12</td>\n",
       "      <td>34</td>\n",
       "    </tr>\n",
       "  </tbody>\n",
       "</table>\n",
       "</div>"
      ],
      "text/plain": [
       "    X   Y\n",
       "0   1  11\n",
       "1   2  15\n",
       "2   4  21\n",
       "3   7  30\n",
       "4  12  34"
      ]
     },
     "execution_count": 16,
     "metadata": {},
     "output_type": "execute_result"
    }
   ],
   "source": [
    "data = {'X': [1,2,4,7,12], 'Y':[11,15,21,30,34]}\n",
    "import numpy as np\n",
    "import pandas as pd\n",
    "data = pd.DataFrame(data)\n",
    "data"
   ]
  },
  {
   "cell_type": "code",
   "execution_count": 2,
   "metadata": {},
   "outputs": [],
   "source": [
    "x = 8"
   ]
  },
  {
   "cell_type": "markdown",
   "metadata": {},
   "source": [
    "for i in 1 to n do\n",
    "    di = distance(x, Xi)\n",
    "    \n",
    "Return yi for which di is min"
   ]
  },
  {
   "cell_type": "code",
   "execution_count": 3,
   "metadata": {},
   "outputs": [
    {
     "data": {
      "text/plain": [
       "30"
      ]
     },
     "execution_count": 3,
     "metadata": {},
     "output_type": "execute_result"
    }
   ],
   "source": [
    "dist = []\n",
    "\n",
    "for i in range(0, len(data)):\n",
    "    dist.append(abs(x - data.X[i]))\n",
    "    \n",
    "index = dist.index(min(dist))\n",
    "data.Y[index]"
   ]
  },
  {
   "cell_type": "code",
   "execution_count": 4,
   "metadata": {},
   "outputs": [
    {
     "name": "stdout",
     "output_type": "stream",
     "text": [
      "30\n"
     ]
    }
   ],
   "source": [
    "min_dist = 9999999999999999999\n",
    "\n",
    "for i in range(0,len(data)):\n",
    "    d = abs(x - data.X[i])\n",
    "    \n",
    "    #Find the minimum distance\n",
    "    if d < min_dist:\n",
    "        min_dist = d\n",
    "        index = i\n",
    "        \n",
    "#Return yi for which di is minimum\n",
    "#We have found that di is min for i = 3 -> therefore we will return y3\n",
    "\n",
    "predicted_y = data.Y[index]\n",
    "print(predicted_y)"
   ]
  },
  {
   "cell_type": "code",
   "execution_count": 5,
   "metadata": {},
   "outputs": [
    {
     "data": {
      "text/plain": [
       "1"
      ]
     },
     "execution_count": 5,
     "metadata": {},
     "output_type": "execute_result"
    }
   ],
   "source": [
    "min_dist"
   ]
  },
  {
   "cell_type": "code",
   "execution_count": 6,
   "metadata": {},
   "outputs": [
    {
     "data": {
      "text/plain": [
       "3"
      ]
     },
     "execution_count": 6,
     "metadata": {},
     "output_type": "execute_result"
    }
   ],
   "source": [
    "index"
   ]
  },
  {
   "cell_type": "markdown",
   "metadata": {},
   "source": [
    "INTRODUCTION TO STATISTICAL LEARNING (ISLR)"
   ]
  },
  {
   "cell_type": "markdown",
   "metadata": {},
   "source": [
    "Extend this 1NN algorithm to 2NN algorithm..."
   ]
  },
  {
   "cell_type": "code",
   "execution_count": 10,
   "metadata": {},
   "outputs": [],
   "source": [
    "#2NN\n",
    "x = 5#test example i need to predict y for x =5"
   ]
  },
  {
   "cell_type": "code",
   "execution_count": 5,
   "metadata": {},
   "outputs": [
    {
     "data": {
      "text/html": [
       "<div>\n",
       "<style scoped>\n",
       "    .dataframe tbody tr th:only-of-type {\n",
       "        vertical-align: middle;\n",
       "    }\n",
       "\n",
       "    .dataframe tbody tr th {\n",
       "        vertical-align: top;\n",
       "    }\n",
       "\n",
       "    .dataframe thead th {\n",
       "        text-align: right;\n",
       "    }\n",
       "</style>\n",
       "<table border=\"1\" class=\"dataframe\">\n",
       "  <thead>\n",
       "    <tr style=\"text-align: right;\">\n",
       "      <th></th>\n",
       "      <th>X</th>\n",
       "      <th>Y</th>\n",
       "    </tr>\n",
       "  </thead>\n",
       "  <tbody>\n",
       "    <tr>\n",
       "      <th>0</th>\n",
       "      <td>1</td>\n",
       "      <td>11</td>\n",
       "    </tr>\n",
       "    <tr>\n",
       "      <th>1</th>\n",
       "      <td>2</td>\n",
       "      <td>15</td>\n",
       "    </tr>\n",
       "    <tr>\n",
       "      <th>2</th>\n",
       "      <td>4</td>\n",
       "      <td>21</td>\n",
       "    </tr>\n",
       "    <tr>\n",
       "      <th>3</th>\n",
       "      <td>7</td>\n",
       "      <td>30</td>\n",
       "    </tr>\n",
       "    <tr>\n",
       "      <th>4</th>\n",
       "      <td>12</td>\n",
       "      <td>34</td>\n",
       "    </tr>\n",
       "  </tbody>\n",
       "</table>\n",
       "</div>"
      ],
      "text/plain": [
       "    X   Y\n",
       "0   1  11\n",
       "1   2  15\n",
       "2   4  21\n",
       "3   7  30\n",
       "4  12  34"
      ]
     },
     "execution_count": 5,
     "metadata": {},
     "output_type": "execute_result"
    }
   ],
   "source": [
    "data"
   ]
  },
  {
   "cell_type": "code",
   "execution_count": 22,
   "metadata": {},
   "outputs": [
    {
     "name": "stdout",
     "output_type": "stream",
     "text": [
      "X: [4, 3, 1, 2, 7]\n",
      "[2, 3]\n",
      "25.5\n"
     ]
    }
   ],
   "source": [
    "#2nn\n",
    "dist = []\n",
    "\n",
    "for i in range(0, len(data)):\n",
    "    dist.append(abs(x - data.X[i]))\n",
    "d = dist.copy()    \n",
    "dist.sort()\n",
    "\n",
    "\n",
    "k = 2 #2NN\n",
    "\n",
    "index =[]\n",
    "for i in range(0,k):\n",
    "    index.append(d.index(dist[i]))\n",
    "\n",
    "print(\"X:\",d)\n",
    "print(index)\n",
    "\n",
    "pred_y = np.mean(data.Y[index])\n",
    "print(pred_y)"
   ]
  },
  {
   "cell_type": "code",
   "execution_count": 32,
   "metadata": {},
   "outputs": [],
   "source": [
    "#generalised knn\n",
    "#one x , one y -> knn\n",
    "def KNN_fn(df, x,k):\n",
    "    dist = []\n",
    "\n",
    "    for i in range(0, len(df)):\n",
    "        dist.append(abs(x - df.X[i]))\n",
    "    d = dist.copy()    \n",
    "    dist.sort()\n",
    "\n",
    "    index =[]\n",
    "    for i in range(0,k):\n",
    "        indx = (d.index(dist[i]))\n",
    "        index.append(indx)\n",
    "        d[indx]= -1 #this cant be a possible distance, this handles the tie\n",
    "    \n",
    "    print(\"X:\",d)\n",
    "    print(index)\n",
    "\n",
    "    pred_y = np.mean(df.Y[index])\n",
    "    return (pred_y)"
   ]
  },
  {
   "cell_type": "code",
   "execution_count": 33,
   "metadata": {},
   "outputs": [
    {
     "name": "stdout",
     "output_type": "stream",
     "text": [
      "X: [4, 3, -1, 2, 7]\n",
      "[2]\n"
     ]
    },
    {
     "data": {
      "text/plain": [
       "21.0"
      ]
     },
     "execution_count": 33,
     "metadata": {},
     "output_type": "execute_result"
    }
   ],
   "source": [
    "KNN_fn(df = data, x = 5 , k = 1)"
   ]
  },
  {
   "cell_type": "code",
   "execution_count": 34,
   "metadata": {},
   "outputs": [
    {
     "data": {
      "text/html": [
       "<div>\n",
       "<style scoped>\n",
       "    .dataframe tbody tr th:only-of-type {\n",
       "        vertical-align: middle;\n",
       "    }\n",
       "\n",
       "    .dataframe tbody tr th {\n",
       "        vertical-align: top;\n",
       "    }\n",
       "\n",
       "    .dataframe thead th {\n",
       "        text-align: right;\n",
       "    }\n",
       "</style>\n",
       "<table border=\"1\" class=\"dataframe\">\n",
       "  <thead>\n",
       "    <tr style=\"text-align: right;\">\n",
       "      <th></th>\n",
       "      <th>X1</th>\n",
       "      <th>X2</th>\n",
       "      <th>Y</th>\n",
       "    </tr>\n",
       "  </thead>\n",
       "  <tbody>\n",
       "    <tr>\n",
       "      <th>0</th>\n",
       "      <td>1</td>\n",
       "      <td>5</td>\n",
       "      <td>11</td>\n",
       "    </tr>\n",
       "    <tr>\n",
       "      <th>1</th>\n",
       "      <td>2</td>\n",
       "      <td>4</td>\n",
       "      <td>15</td>\n",
       "    </tr>\n",
       "    <tr>\n",
       "      <th>2</th>\n",
       "      <td>4</td>\n",
       "      <td>3</td>\n",
       "      <td>21</td>\n",
       "    </tr>\n",
       "    <tr>\n",
       "      <th>3</th>\n",
       "      <td>7</td>\n",
       "      <td>2</td>\n",
       "      <td>30</td>\n",
       "    </tr>\n",
       "    <tr>\n",
       "      <th>4</th>\n",
       "      <td>12</td>\n",
       "      <td>1</td>\n",
       "      <td>34</td>\n",
       "    </tr>\n",
       "  </tbody>\n",
       "</table>\n",
       "</div>"
      ],
      "text/plain": [
       "   X1  X2   Y\n",
       "0   1   5  11\n",
       "1   2   4  15\n",
       "2   4   3  21\n",
       "3   7   2  30\n",
       "4  12   1  34"
      ]
     },
     "execution_count": 34,
     "metadata": {},
     "output_type": "execute_result"
    }
   ],
   "source": [
    "data2 = {'X1': [1,2,4,7,12],'X2': [5,4,3,2,1],'Y':[11,15,21,30,34]}\n",
    "\n",
    "data2=pd.DataFrame(data2)\n",
    "data2"
   ]
  },
  {
   "cell_type": "code",
   "execution_count": 35,
   "metadata": {},
   "outputs": [],
   "source": [
    "test = np.array([2,3])"
   ]
  },
  {
   "cell_type": "code",
   "execution_count": 40,
   "metadata": {},
   "outputs": [
    {
     "data": {
      "text/plain": [
       "3.605551275463989"
      ]
     },
     "execution_count": 40,
     "metadata": {},
     "output_type": "execute_result"
    }
   ],
   "source": [
    "#Euclidean dist\n",
    "\n",
    "p = np.array([2,2])\n",
    "q = np.array([4,5])\n",
    "\n",
    "np.sqrt((p[0]-q[0])**2 + (p[1]-q[1])**2)"
   ]
  },
  {
   "cell_type": "code",
   "execution_count": 41,
   "metadata": {},
   "outputs": [
    {
     "data": {
      "text/plain": [
       "3.0"
      ]
     },
     "execution_count": 41,
     "metadata": {},
     "output_type": "execute_result"
    }
   ],
   "source": [
    "p = np.array([2,3,3])\n",
    "q = np.array([4,5,2])\n",
    "\n",
    "np.sqrt((p[0]-q[0])**2 + (p[1]-q[1])**2 + (p[2]-q[2])**2)"
   ]
  },
  {
   "cell_type": "code",
   "execution_count": 39,
   "metadata": {},
   "outputs": [
    {
     "data": {
      "text/plain": [
       "3.0"
      ]
     },
     "execution_count": 39,
     "metadata": {},
     "output_type": "execute_result"
    }
   ],
   "source": [
    "ed = 0\n",
    "for i in range(len(p)):\n",
    "    ed = ed + (p[i]-q[i])**2\n",
    "np.sqrt(ed)"
   ]
  },
  {
   "cell_type": "code",
   "execution_count": 42,
   "metadata": {},
   "outputs": [],
   "source": [
    "def euclidean(p,q):\n",
    "    ed = 0\n",
    "    for i in range(len(p)):\n",
    "        ed = ed + (p[i]-q[i])**2\n",
    "    \n",
    "    return (np.sqrt(ed))   \n"
   ]
  },
  {
   "cell_type": "code",
   "execution_count": 43,
   "metadata": {},
   "outputs": [
    {
     "data": {
      "text/plain": [
       "3.0"
      ]
     },
     "execution_count": 43,
     "metadata": {},
     "output_type": "execute_result"
    }
   ],
   "source": [
    "euclidean(np.array([2,3,3]),np.array([4,5,2]))"
   ]
  },
  {
   "cell_type": "code",
   "execution_count": 45,
   "metadata": {},
   "outputs": [
    {
     "name": "stdout",
     "output_type": "stream",
     "text": [
      "   X1  X2   Y\n",
      "0   1   5  11\n",
      "1   2   4  15\n",
      "2   4   3  21\n",
      "3   7   2  30\n",
      "4  12   1  34\n",
      "\n",
      "\n",
      "[2 3]\n"
     ]
    }
   ],
   "source": [
    "print(data2)\n",
    "print(\"\\n\")\n",
    "print(test)"
   ]
  },
  {
   "cell_type": "code",
   "execution_count": 47,
   "metadata": {},
   "outputs": [
    {
     "name": "stdout",
     "output_type": "stream",
     "text": [
      "[2.23606797749979, 1.0, 2.0, 5.0990195135927845, 10.198039027185569]\n"
     ]
    }
   ],
   "source": [
    "dist = []\n",
    "\n",
    "for i in range(len(data2)):\n",
    "    dist.append(euclidean(test,data2.iloc[i,[0,1]]))\n",
    "\n",
    "print(dist)\n",
    "#this gives distance btwn every observation in the dataset"
   ]
  },
  {
   "cell_type": "code",
   "execution_count": 55,
   "metadata": {},
   "outputs": [],
   "source": [
    "#2xs - 1y\n",
    "def KNN_fn_2(df, x,k=1):\n",
    "    dist = []\n",
    "    \n",
    "    \n",
    "    for i in range(len(df)):\n",
    "        dist.append(euclidean(test,df.iloc[i,[0,1]]))\n",
    "    d = dist.copy()    \n",
    "    dist.sort()\n",
    "\n",
    "    index =[]\n",
    "    for i in range(0,k):\n",
    "        indx = (d.index(dist[i]))\n",
    "        index.append(indx)\n",
    "        d[indx]= -1 #this cant be a possible distance, this handles the tie\n",
    "        \n",
    "    print(\"X:\",d)\n",
    "\n",
    "    pred_y = np.mean(df.iloc[index,2])\n",
    "    return (pred_y)"
   ]
  },
  {
   "cell_type": "code",
   "execution_count": 57,
   "metadata": {},
   "outputs": [
    {
     "name": "stdout",
     "output_type": "stream",
     "text": [
      "X: [2.23606797749979, -1, -1, 5.0990195135927845, 10.198039027185569]\n",
      "[1, 2]\n"
     ]
    },
    {
     "data": {
      "text/plain": [
       "18.0"
      ]
     },
     "execution_count": 57,
     "metadata": {},
     "output_type": "execute_result"
    }
   ],
   "source": [
    "KNN_fn_2(data2, test, k=2)"
   ]
  },
  {
   "cell_type": "code",
   "execution_count": null,
   "metadata": {},
   "outputs": [],
   "source": []
  }
 ],
 "metadata": {
  "kernelspec": {
   "display_name": "Python 3",
   "language": "python",
   "name": "python3"
  },
  "language_info": {
   "codemirror_mode": {
    "name": "ipython",
    "version": 3
   },
   "file_extension": ".py",
   "mimetype": "text/x-python",
   "name": "python",
   "nbconvert_exporter": "python",
   "pygments_lexer": "ipython3",
   "version": "3.8.3"
  }
 },
 "nbformat": 4,
 "nbformat_minor": 2
}
