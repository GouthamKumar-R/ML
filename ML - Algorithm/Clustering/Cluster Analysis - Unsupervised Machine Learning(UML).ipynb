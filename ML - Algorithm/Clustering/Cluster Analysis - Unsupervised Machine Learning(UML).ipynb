{
 "cells": [
  {
   "cell_type": "markdown",
   "metadata": {},
   "source": [
    "# Hierarchical Clustering and KMeans - Segmentation in Telecom Industry"
   ]
  },
  {
   "cell_type": "code",
   "execution_count": 1,
   "metadata": {},
   "outputs": [],
   "source": [
    "#importing libraries \n",
    "import pandas as pd \n",
    "import numpy as np\n",
    "import matplotlib.pyplot as plt\n",
    "\n",
    "import warnings\n",
    "warnings.filterwarnings(\"ignore\")"
   ]
  },
  {
   "cell_type": "markdown",
   "metadata": {},
   "source": [
    "### Data - Telco"
   ]
  },
  {
   "cell_type": "markdown",
   "metadata": {},
   "source": [
    "Group similar customers and analyse the pattern."
   ]
  },
  {
   "cell_type": "code",
   "execution_count": 2,
   "metadata": {},
   "outputs": [
    {
     "data": {
      "text/plain": [
       "(1000, 5)"
      ]
     },
     "execution_count": 2,
     "metadata": {},
     "output_type": "execute_result"
    }
   ],
   "source": [
    "telco = pd.read_csv(\"Telco.csv\")\n",
    "telco.shape"
   ]
  },
  {
   "cell_type": "code",
   "execution_count": 3,
   "metadata": {},
   "outputs": [
    {
     "data": {
      "text/html": [
       "<div>\n",
       "<style scoped>\n",
       "    .dataframe tbody tr th:only-of-type {\n",
       "        vertical-align: middle;\n",
       "    }\n",
       "\n",
       "    .dataframe tbody tr th {\n",
       "        vertical-align: top;\n",
       "    }\n",
       "\n",
       "    .dataframe thead th {\n",
       "        text-align: right;\n",
       "    }\n",
       "</style>\n",
       "<table border=\"1\" class=\"dataframe\">\n",
       "  <thead>\n",
       "    <tr style=\"text-align: right;\">\n",
       "      <th></th>\n",
       "      <th>Calls</th>\n",
       "      <th>Intern</th>\n",
       "      <th>Text</th>\n",
       "      <th>Data</th>\n",
       "      <th>Age</th>\n",
       "    </tr>\n",
       "  </thead>\n",
       "  <tbody>\n",
       "    <tr>\n",
       "      <th>707</th>\n",
       "      <td>5.73</td>\n",
       "      <td>1.02</td>\n",
       "      <td>239.55</td>\n",
       "      <td>4.04</td>\n",
       "      <td>26</td>\n",
       "    </tr>\n",
       "    <tr>\n",
       "      <th>936</th>\n",
       "      <td>3.26</td>\n",
       "      <td>0.34</td>\n",
       "      <td>298.54</td>\n",
       "      <td>2.03</td>\n",
       "      <td>27</td>\n",
       "    </tr>\n",
       "    <tr>\n",
       "      <th>459</th>\n",
       "      <td>2.80</td>\n",
       "      <td>0.28</td>\n",
       "      <td>313.38</td>\n",
       "      <td>1.71</td>\n",
       "      <td>32</td>\n",
       "    </tr>\n",
       "    <tr>\n",
       "      <th>737</th>\n",
       "      <td>2.97</td>\n",
       "      <td>1.16</td>\n",
       "      <td>58.02</td>\n",
       "      <td>0.19</td>\n",
       "      <td>50</td>\n",
       "    </tr>\n",
       "    <tr>\n",
       "      <th>623</th>\n",
       "      <td>1.77</td>\n",
       "      <td>0.12</td>\n",
       "      <td>428.98</td>\n",
       "      <td>4.34</td>\n",
       "      <td>22</td>\n",
       "    </tr>\n",
       "    <tr>\n",
       "      <th>528</th>\n",
       "      <td>2.80</td>\n",
       "      <td>0.36</td>\n",
       "      <td>281.19</td>\n",
       "      <td>1.84</td>\n",
       "      <td>32</td>\n",
       "    </tr>\n",
       "    <tr>\n",
       "      <th>255</th>\n",
       "      <td>2.06</td>\n",
       "      <td>0.11</td>\n",
       "      <td>462.97</td>\n",
       "      <td>3.52</td>\n",
       "      <td>21</td>\n",
       "    </tr>\n",
       "    <tr>\n",
       "      <th>275</th>\n",
       "      <td>1.04</td>\n",
       "      <td>0.23</td>\n",
       "      <td>21.49</td>\n",
       "      <td>0.17</td>\n",
       "      <td>61</td>\n",
       "    </tr>\n",
       "    <tr>\n",
       "      <th>590</th>\n",
       "      <td>5.81</td>\n",
       "      <td>1.15</td>\n",
       "      <td>21.81</td>\n",
       "      <td>1.90</td>\n",
       "      <td>50</td>\n",
       "    </tr>\n",
       "    <tr>\n",
       "      <th>926</th>\n",
       "      <td>1.10</td>\n",
       "      <td>0.18</td>\n",
       "      <td>22.14</td>\n",
       "      <td>0.23</td>\n",
       "      <td>66</td>\n",
       "    </tr>\n",
       "  </tbody>\n",
       "</table>\n",
       "</div>"
      ],
      "text/plain": [
       "     Calls  Intern    Text  Data  Age\n",
       "707   5.73    1.02  239.55  4.04   26\n",
       "936   3.26    0.34  298.54  2.03   27\n",
       "459   2.80    0.28  313.38  1.71   32\n",
       "737   2.97    1.16   58.02  0.19   50\n",
       "623   1.77    0.12  428.98  4.34   22\n",
       "528   2.80    0.36  281.19  1.84   32\n",
       "255   2.06    0.11  462.97  3.52   21\n",
       "275   1.04    0.23   21.49  0.17   61\n",
       "590   5.81    1.15   21.81  1.90   50\n",
       "926   1.10    0.18   22.14  0.23   66"
      ]
     },
     "execution_count": 3,
     "metadata": {},
     "output_type": "execute_result"
    }
   ],
   "source": [
    "telco.sample(10)"
   ]
  },
  {
   "cell_type": "markdown",
   "metadata": {},
   "source": [
    "It's a masked data. Variables are in different scale (because of proprietary issue the company has masked it and uploaded it in common fourm)"
   ]
  },
  {
   "cell_type": "markdown",
   "metadata": {},
   "source": [
    "### Scaling"
   ]
  },
  {
   "cell_type": "markdown",
   "metadata": {},
   "source": [
    "Whenever we are dealing with distance matrix, it is recommended to scale the data."
   ]
  },
  {
   "cell_type": "code",
   "execution_count": 4,
   "metadata": {},
   "outputs": [],
   "source": [
    "telco_scaled = telco.apply(lambda x: (x-np.mean(x))/np.std(x))"
   ]
  },
  {
   "cell_type": "code",
   "execution_count": 5,
   "metadata": {},
   "outputs": [
    {
     "data": {
      "text/html": [
       "<div>\n",
       "<style scoped>\n",
       "    .dataframe tbody tr th:only-of-type {\n",
       "        vertical-align: middle;\n",
       "    }\n",
       "\n",
       "    .dataframe tbody tr th {\n",
       "        vertical-align: top;\n",
       "    }\n",
       "\n",
       "    .dataframe thead th {\n",
       "        text-align: right;\n",
       "    }\n",
       "</style>\n",
       "<table border=\"1\" class=\"dataframe\">\n",
       "  <thead>\n",
       "    <tr style=\"text-align: right;\">\n",
       "      <th></th>\n",
       "      <th>Calls</th>\n",
       "      <th>Intern</th>\n",
       "      <th>Text</th>\n",
       "      <th>Data</th>\n",
       "      <th>Age</th>\n",
       "    </tr>\n",
       "  </thead>\n",
       "  <tbody>\n",
       "    <tr>\n",
       "      <th>0</th>\n",
       "      <td>-0.996125</td>\n",
       "      <td>-0.569290</td>\n",
       "      <td>-0.940982</td>\n",
       "      <td>-1.299162</td>\n",
       "      <td>1.372936</td>\n",
       "    </tr>\n",
       "    <tr>\n",
       "      <th>1</th>\n",
       "      <td>-1.022513</td>\n",
       "      <td>-0.489795</td>\n",
       "      <td>-0.969806</td>\n",
       "      <td>-1.262765</td>\n",
       "      <td>1.002273</td>\n",
       "    </tr>\n",
       "    <tr>\n",
       "      <th>2</th>\n",
       "      <td>0.600387</td>\n",
       "      <td>-0.383802</td>\n",
       "      <td>0.303060</td>\n",
       "      <td>0.018380</td>\n",
       "      <td>-0.233271</td>\n",
       "    </tr>\n",
       "    <tr>\n",
       "      <th>3</th>\n",
       "      <td>-1.015916</td>\n",
       "      <td>-0.516293</td>\n",
       "      <td>-0.963302</td>\n",
       "      <td>-1.277324</td>\n",
       "      <td>1.434713</td>\n",
       "    </tr>\n",
       "    <tr>\n",
       "      <th>4</th>\n",
       "      <td>-1.048902</td>\n",
       "      <td>-0.436798</td>\n",
       "      <td>-0.957780</td>\n",
       "      <td>-1.284603</td>\n",
       "      <td>1.125827</td>\n",
       "    </tr>\n",
       "  </tbody>\n",
       "</table>\n",
       "</div>"
      ],
      "text/plain": [
       "      Calls    Intern      Text      Data       Age\n",
       "0 -0.996125 -0.569290 -0.940982 -1.299162  1.372936\n",
       "1 -1.022513 -0.489795 -0.969806 -1.262765  1.002273\n",
       "2  0.600387 -0.383802  0.303060  0.018380 -0.233271\n",
       "3 -1.015916 -0.516293 -0.963302 -1.277324  1.434713\n",
       "4 -1.048902 -0.436798 -0.957780 -1.284603  1.125827"
      ]
     },
     "execution_count": 5,
     "metadata": {},
     "output_type": "execute_result"
    }
   ],
   "source": [
    "telco_scaled.head()"
   ]
  },
  {
   "cell_type": "markdown",
   "metadata": {},
   "source": [
    "Even if the data is already scaled, during masking; re-scaling doesn't affect the data: while scaling the mean will be zero and st.dev will be 1; so re-scaling won't affect anything."
   ]
  },
  {
   "cell_type": "code",
   "execution_count": 6,
   "metadata": {},
   "outputs": [
    {
     "data": {
      "text/html": [
       "<div>\n",
       "<style scoped>\n",
       "    .dataframe tbody tr th:only-of-type {\n",
       "        vertical-align: middle;\n",
       "    }\n",
       "\n",
       "    .dataframe tbody tr th {\n",
       "        vertical-align: top;\n",
       "    }\n",
       "\n",
       "    .dataframe thead th {\n",
       "        text-align: right;\n",
       "    }\n",
       "</style>\n",
       "<table border=\"1\" class=\"dataframe\">\n",
       "  <thead>\n",
       "    <tr style=\"text-align: right;\">\n",
       "      <th></th>\n",
       "      <th>count</th>\n",
       "      <th>mean</th>\n",
       "      <th>std</th>\n",
       "      <th>min</th>\n",
       "      <th>25%</th>\n",
       "      <th>50%</th>\n",
       "      <th>75%</th>\n",
       "      <th>max</th>\n",
       "    </tr>\n",
       "  </thead>\n",
       "  <tbody>\n",
       "    <tr>\n",
       "      <th>Calls</th>\n",
       "      <td>1000.0</td>\n",
       "      <td>-1.989964e-15</td>\n",
       "      <td>1.0005</td>\n",
       "      <td>-1.174248</td>\n",
       "      <td>-0.752030</td>\n",
       "      <td>-0.389186</td>\n",
       "      <td>0.569051</td>\n",
       "      <td>2.223288</td>\n",
       "    </tr>\n",
       "    <tr>\n",
       "      <th>Intern</th>\n",
       "      <td>1000.0</td>\n",
       "      <td>-2.852385e-15</td>\n",
       "      <td>1.0005</td>\n",
       "      <td>-0.834273</td>\n",
       "      <td>-0.781276</td>\n",
       "      <td>-0.489795</td>\n",
       "      <td>1.020609</td>\n",
       "      <td>2.107040</td>\n",
       "    </tr>\n",
       "    <tr>\n",
       "      <th>Text</th>\n",
       "      <td>1000.0</td>\n",
       "      <td>1.069034e-15</td>\n",
       "      <td>1.0005</td>\n",
       "      <td>-0.973315</td>\n",
       "      <td>-0.955721</td>\n",
       "      <td>-0.161414</td>\n",
       "      <td>1.050073</td>\n",
       "      <td>1.749616</td>\n",
       "    </tr>\n",
       "    <tr>\n",
       "      <th>Data</th>\n",
       "      <td>1000.0</td>\n",
       "      <td>-1.973387e-15</td>\n",
       "      <td>1.0005</td>\n",
       "      <td>-1.306441</td>\n",
       "      <td>-1.051668</td>\n",
       "      <td>0.011101</td>\n",
       "      <td>0.682610</td>\n",
       "      <td>2.056566</td>\n",
       "    </tr>\n",
       "    <tr>\n",
       "      <th>Age</th>\n",
       "      <td>1000.0</td>\n",
       "      <td>-2.446932e-16</td>\n",
       "      <td>1.0005</td>\n",
       "      <td>-1.592368</td>\n",
       "      <td>-0.851042</td>\n",
       "      <td>-0.171493</td>\n",
       "      <td>0.816941</td>\n",
       "      <td>2.114262</td>\n",
       "    </tr>\n",
       "  </tbody>\n",
       "</table>\n",
       "</div>"
      ],
      "text/plain": [
       "         count          mean     std       min       25%       50%       75%  \\\n",
       "Calls   1000.0 -1.989964e-15  1.0005 -1.174248 -0.752030 -0.389186  0.569051   \n",
       "Intern  1000.0 -2.852385e-15  1.0005 -0.834273 -0.781276 -0.489795  1.020609   \n",
       "Text    1000.0  1.069034e-15  1.0005 -0.973315 -0.955721 -0.161414  1.050073   \n",
       "Data    1000.0 -1.973387e-15  1.0005 -1.306441 -1.051668  0.011101  0.682610   \n",
       "Age     1000.0 -2.446932e-16  1.0005 -1.592368 -0.851042 -0.171493  0.816941   \n",
       "\n",
       "             max  \n",
       "Calls   2.223288  \n",
       "Intern  2.107040  \n",
       "Text    1.749616  \n",
       "Data    2.056566  \n",
       "Age     2.114262  "
      ]
     },
     "execution_count": 6,
     "metadata": {},
     "output_type": "execute_result"
    }
   ],
   "source": [
    "telco_scaled.describe().T"
   ]
  },
  {
   "cell_type": "code",
   "execution_count": 7,
   "metadata": {},
   "outputs": [],
   "source": [
    "#inbuilt - scaling\n",
    "from sklearn.preprocessing import StandardScaler\n",
    "scaler = StandardScaler()\n",
    "x_scaled = scaler.fit_transform(telco)\n",
    "#converting it to df\n",
    "x = pd.DataFrame(x_scaled, columns = telco.columns)"
   ]
  },
  {
   "cell_type": "code",
   "execution_count": 8,
   "metadata": {},
   "outputs": [
    {
     "data": {
      "text/html": [
       "<div>\n",
       "<style scoped>\n",
       "    .dataframe tbody tr th:only-of-type {\n",
       "        vertical-align: middle;\n",
       "    }\n",
       "\n",
       "    .dataframe tbody tr th {\n",
       "        vertical-align: top;\n",
       "    }\n",
       "\n",
       "    .dataframe thead th {\n",
       "        text-align: right;\n",
       "    }\n",
       "</style>\n",
       "<table border=\"1\" class=\"dataframe\">\n",
       "  <thead>\n",
       "    <tr style=\"text-align: right;\">\n",
       "      <th></th>\n",
       "      <th>count</th>\n",
       "      <th>mean</th>\n",
       "      <th>std</th>\n",
       "      <th>min</th>\n",
       "      <th>25%</th>\n",
       "      <th>50%</th>\n",
       "      <th>75%</th>\n",
       "      <th>max</th>\n",
       "    </tr>\n",
       "  </thead>\n",
       "  <tbody>\n",
       "    <tr>\n",
       "      <th>Calls</th>\n",
       "      <td>1000.0</td>\n",
       "      <td>-2.193801e-16</td>\n",
       "      <td>1.0005</td>\n",
       "      <td>-1.174248</td>\n",
       "      <td>-0.752030</td>\n",
       "      <td>-0.389186</td>\n",
       "      <td>0.569051</td>\n",
       "      <td>2.223288</td>\n",
       "    </tr>\n",
       "    <tr>\n",
       "      <th>Intern</th>\n",
       "      <td>1000.0</td>\n",
       "      <td>-1.174616e-16</td>\n",
       "      <td>1.0005</td>\n",
       "      <td>-0.834273</td>\n",
       "      <td>-0.781276</td>\n",
       "      <td>-0.489795</td>\n",
       "      <td>1.020609</td>\n",
       "      <td>2.107040</td>\n",
       "    </tr>\n",
       "    <tr>\n",
       "      <th>Text</th>\n",
       "      <td>1000.0</td>\n",
       "      <td>2.942091e-17</td>\n",
       "      <td>1.0005</td>\n",
       "      <td>-0.973315</td>\n",
       "      <td>-0.955721</td>\n",
       "      <td>-0.161414</td>\n",
       "      <td>1.050073</td>\n",
       "      <td>1.749616</td>\n",
       "    </tr>\n",
       "    <tr>\n",
       "      <th>Data</th>\n",
       "      <td>1000.0</td>\n",
       "      <td>-5.136169e-17</td>\n",
       "      <td>1.0005</td>\n",
       "      <td>-1.306441</td>\n",
       "      <td>-1.051668</td>\n",
       "      <td>0.011101</td>\n",
       "      <td>0.682610</td>\n",
       "      <td>2.056566</td>\n",
       "    </tr>\n",
       "    <tr>\n",
       "      <th>Age</th>\n",
       "      <td>1000.0</td>\n",
       "      <td>-2.619016e-16</td>\n",
       "      <td>1.0005</td>\n",
       "      <td>-1.592368</td>\n",
       "      <td>-0.851042</td>\n",
       "      <td>-0.171493</td>\n",
       "      <td>0.816941</td>\n",
       "      <td>2.114262</td>\n",
       "    </tr>\n",
       "  </tbody>\n",
       "</table>\n",
       "</div>"
      ],
      "text/plain": [
       "         count          mean     std       min       25%       50%       75%  \\\n",
       "Calls   1000.0 -2.193801e-16  1.0005 -1.174248 -0.752030 -0.389186  0.569051   \n",
       "Intern  1000.0 -1.174616e-16  1.0005 -0.834273 -0.781276 -0.489795  1.020609   \n",
       "Text    1000.0  2.942091e-17  1.0005 -0.973315 -0.955721 -0.161414  1.050073   \n",
       "Data    1000.0 -5.136169e-17  1.0005 -1.306441 -1.051668  0.011101  0.682610   \n",
       "Age     1000.0 -2.619016e-16  1.0005 -1.592368 -0.851042 -0.171493  0.816941   \n",
       "\n",
       "             max  \n",
       "Calls   2.223288  \n",
       "Intern  2.107040  \n",
       "Text    1.749616  \n",
       "Data    2.056566  \n",
       "Age     2.114262  "
      ]
     },
     "execution_count": 8,
     "metadata": {},
     "output_type": "execute_result"
    }
   ],
   "source": [
    "x.describe().T"
   ]
  },
  {
   "cell_type": "markdown",
   "metadata": {},
   "source": [
    "### Plotting a Dendogram"
   ]
  },
  {
   "cell_type": "code",
   "execution_count": 9,
   "metadata": {},
   "outputs": [],
   "source": [
    "import scipy\n",
    "import matplotlib as mpl\n",
    "from matplotlib.pyplot import cm\n",
    "from scipy.cluster import hierarchy\n",
    "from scipy.cluster.hierarchy import dendrogram, linkage\n",
    "\n",
    "#changing colour theme of dendrogram - since im using black theme\n",
    "cmap = cm.rainbow(np.linspace(0, 1, 10))\n",
    "hierarchy.set_link_color_palette([mpl.colors.rgb2hex(rgb[:3]) for rgb in cmap])"
   ]
  },
  {
   "cell_type": "markdown",
   "metadata": {},
   "source": [
    "Study the functions:\n",
    "\n",
    "* dendogram\n",
    "https://docs.scipy.org/doc/scipy/reference/generated/scipy.cluster.hierarchy.dendrogram.html \n",
    "\n",
    "* linkeage\n",
    "https://docs.scipy.org/doc/scipy/reference/generated/scipy.cluster.hierarchy.linkage.html"
   ]
  },
  {
   "cell_type": "code",
   "execution_count": 10,
   "metadata": {},
   "outputs": [],
   "source": [
    "z = linkage(telco_scaled, 'complete')"
   ]
  },
  {
   "cell_type": "code",
   "execution_count": 11,
   "metadata": {},
   "outputs": [
    {
     "data": {
      "image/png": "[encoded data removed]",
      "text/plain": [
       "<Figure size 576x504 with 1 Axes>"
      ]
     },
     "metadata": {},
     "output_type": "display_data"
    }
   ],
   "source": [
    "dendrogram(z)\n",
    "plt.title(\"Dendogram\")\n",
    "plt.xlabel(\"Cluster Size\")\n",
    "plt.ylabel(\"Distance\")\n",
    "#plt.style.use('dark_background')\n",
    "plt.show()"
   ]
  },
  {
   "cell_type": "markdown",
   "metadata": {},
   "source": [
    "we can't read the clusters because we have lot of observations(1000), but in smaller dataset we can. "
   ]
  },
  {
   "cell_type": "code",
   "execution_count": 12,
   "metadata": {},
   "outputs": [
    {
     "data": {
      "image/png": "[encoded data removed]",
      "text/plain": [
       "<Figure size 576x504 with 1 Axes>"
      ]
     },
     "metadata": {},
     "output_type": "display_data"
    }
   ],
   "source": [
    "dendrogram(z,truncate_mode='lastp', p =30, leaf_rotation=90, leaf_font_size=15.)\n",
    "plt.title(\"Truncated Dendogram\")\n",
    "plt.xlabel(\"Cluster Size\")\n",
    "plt.ylabel(\"Distance\")\n",
    "\n",
    "plt.show()"
   ]
  },
  {
   "cell_type": "markdown",
   "metadata": {},
   "source": [
    "### Agglomerative Hierarchical Clustering"
   ]
  },
  {
   "cell_type": "code",
   "execution_count": 25,
   "metadata": {},
   "outputs": [],
   "source": [
    "import sklearn\n",
    "from sklearn.cluster import AgglomerativeClustering"
   ]
  },
  {
   "cell_type": "code",
   "execution_count": 26,
   "metadata": {},
   "outputs": [],
   "source": [
    "hclust = AgglomerativeClustering(n_clusters=5, affinity= 'euclidean', linkage = 'complete') "
   ]
  },
  {
   "cell_type": "code",
   "execution_count": 27,
   "metadata": {},
   "outputs": [
    {
     "data": {
      "text/plain": [
       "AgglomerativeClustering(linkage='complete', n_clusters=5)"
      ]
     },
     "execution_count": 27,
     "metadata": {},
     "output_type": "execute_result"
    }
   ],
   "source": [
    "hclust.fit(telco_scaled)"
   ]
  },
  {
   "cell_type": "markdown",
   "metadata": {},
   "source": [
    "### Grouping the data"
   ]
  },
  {
   "cell_type": "code",
   "execution_count": 28,
   "metadata": {},
   "outputs": [],
   "source": [
    "telco['Groups'] = hclust.labels_"
   ]
  },
  {
   "cell_type": "code",
   "execution_count": 29,
   "metadata": {},
   "outputs": [
    {
     "data": {
      "text/plain": [
       "array([3, 3, 4, 3, 3, 0, 3, 4, 0, 4], dtype=int64)"
      ]
     },
     "execution_count": 29,
     "metadata": {},
     "output_type": "execute_result"
    }
   ],
   "source": [
    "#labels\n",
    "hclust.labels_[:10]"
   ]
  },
  {
   "cell_type": "code",
   "execution_count": 30,
   "metadata": {},
   "outputs": [
    {
     "data": {
      "text/html": [
       "<div>\n",
       "<style scoped>\n",
       "    .dataframe tbody tr th:only-of-type {\n",
       "        vertical-align: middle;\n",
       "    }\n",
       "\n",
       "    .dataframe tbody tr th {\n",
       "        vertical-align: top;\n",
       "    }\n",
       "\n",
       "    .dataframe thead th {\n",
       "        text-align: right;\n",
       "    }\n",
       "</style>\n",
       "<table border=\"1\" class=\"dataframe\">\n",
       "  <thead>\n",
       "    <tr style=\"text-align: right;\">\n",
       "      <th></th>\n",
       "      <th>Calls</th>\n",
       "      <th>Intern</th>\n",
       "      <th>Text</th>\n",
       "      <th>Data</th>\n",
       "      <th>Age</th>\n",
       "      <th>Groups</th>\n",
       "    </tr>\n",
       "  </thead>\n",
       "  <tbody>\n",
       "    <tr>\n",
       "      <th>0</th>\n",
       "      <td>1.12</td>\n",
       "      <td>0.19</td>\n",
       "      <td>23.92</td>\n",
       "      <td>0.18</td>\n",
       "      <td>60</td>\n",
       "      <td>3</td>\n",
       "    </tr>\n",
       "    <tr>\n",
       "      <th>1</th>\n",
       "      <td>1.08</td>\n",
       "      <td>0.22</td>\n",
       "      <td>17.76</td>\n",
       "      <td>0.23</td>\n",
       "      <td>54</td>\n",
       "      <td>3</td>\n",
       "    </tr>\n",
       "    <tr>\n",
       "      <th>2</th>\n",
       "      <td>3.54</td>\n",
       "      <td>0.26</td>\n",
       "      <td>289.79</td>\n",
       "      <td>1.99</td>\n",
       "      <td>34</td>\n",
       "      <td>4</td>\n",
       "    </tr>\n",
       "    <tr>\n",
       "      <th>3</th>\n",
       "      <td>1.09</td>\n",
       "      <td>0.21</td>\n",
       "      <td>19.15</td>\n",
       "      <td>0.21</td>\n",
       "      <td>61</td>\n",
       "      <td>3</td>\n",
       "    </tr>\n",
       "    <tr>\n",
       "      <th>4</th>\n",
       "      <td>1.04</td>\n",
       "      <td>0.24</td>\n",
       "      <td>20.33</td>\n",
       "      <td>0.20</td>\n",
       "      <td>56</td>\n",
       "      <td>3</td>\n",
       "    </tr>\n",
       "    <tr>\n",
       "      <th>5</th>\n",
       "      <td>5.59</td>\n",
       "      <td>0.88</td>\n",
       "      <td>19.23</td>\n",
       "      <td>2.02</td>\n",
       "      <td>41</td>\n",
       "      <td>0</td>\n",
       "    </tr>\n",
       "    <tr>\n",
       "      <th>6</th>\n",
       "      <td>1.19</td>\n",
       "      <td>0.19</td>\n",
       "      <td>17.94</td>\n",
       "      <td>0.24</td>\n",
       "      <td>71</td>\n",
       "      <td>3</td>\n",
       "    </tr>\n",
       "    <tr>\n",
       "      <th>7</th>\n",
       "      <td>3.07</td>\n",
       "      <td>0.34</td>\n",
       "      <td>359.49</td>\n",
       "      <td>2.06</td>\n",
       "      <td>30</td>\n",
       "      <td>4</td>\n",
       "    </tr>\n",
       "    <tr>\n",
       "      <th>8</th>\n",
       "      <td>5.34</td>\n",
       "      <td>0.99</td>\n",
       "      <td>295.47</td>\n",
       "      <td>0.97</td>\n",
       "      <td>41</td>\n",
       "      <td>0</td>\n",
       "    </tr>\n",
       "    <tr>\n",
       "      <th>9</th>\n",
       "      <td>2.43</td>\n",
       "      <td>0.09</td>\n",
       "      <td>17.57</td>\n",
       "      <td>0.46</td>\n",
       "      <td>33</td>\n",
       "      <td>4</td>\n",
       "    </tr>\n",
       "  </tbody>\n",
       "</table>\n",
       "</div>"
      ],
      "text/plain": [
       "   Calls  Intern    Text  Data  Age  Groups\n",
       "0   1.12    0.19   23.92  0.18   60       3\n",
       "1   1.08    0.22   17.76  0.23   54       3\n",
       "2   3.54    0.26  289.79  1.99   34       4\n",
       "3   1.09    0.21   19.15  0.21   61       3\n",
       "4   1.04    0.24   20.33  0.20   56       3\n",
       "5   5.59    0.88   19.23  2.02   41       0\n",
       "6   1.19    0.19   17.94  0.24   71       3\n",
       "7   3.07    0.34  359.49  2.06   30       4\n",
       "8   5.34    0.99  295.47  0.97   41       0\n",
       "9   2.43    0.09   17.57  0.46   33       4"
      ]
     },
     "execution_count": 30,
     "metadata": {},
     "output_type": "execute_result"
    }
   ],
   "source": [
    "telco.head(10)"
   ]
  },
  {
   "cell_type": "markdown",
   "metadata": {},
   "source": [
    "### Profiling : Checking the Aggregate of the groups"
   ]
  },
  {
   "cell_type": "code",
   "execution_count": 31,
   "metadata": {},
   "outputs": [
    {
     "data": {
      "text/html": [
       "<div>\n",
       "<style scoped>\n",
       "    .dataframe tbody tr th:only-of-type {\n",
       "        vertical-align: middle;\n",
       "    }\n",
       "\n",
       "    .dataframe tbody tr th {\n",
       "        vertical-align: top;\n",
       "    }\n",
       "\n",
       "    .dataframe thead th {\n",
       "        text-align: right;\n",
       "    }\n",
       "</style>\n",
       "<table border=\"1\" class=\"dataframe\">\n",
       "  <thead>\n",
       "    <tr style=\"text-align: right;\">\n",
       "      <th></th>\n",
       "      <th>Calls</th>\n",
       "      <th>Intern</th>\n",
       "      <th>Text</th>\n",
       "      <th>Data</th>\n",
       "      <th>Age</th>\n",
       "    </tr>\n",
       "    <tr>\n",
       "      <th>Groups</th>\n",
       "      <th></th>\n",
       "      <th></th>\n",
       "      <th></th>\n",
       "      <th></th>\n",
       "      <th></th>\n",
       "    </tr>\n",
       "  </thead>\n",
       "  <tbody>\n",
       "    <tr>\n",
       "      <th>0</th>\n",
       "      <td>4.472227</td>\n",
       "      <td>1.010486</td>\n",
       "      <td>82.832146</td>\n",
       "      <td>2.009190</td>\n",
       "      <td>43.149798</td>\n",
       "    </tr>\n",
       "    <tr>\n",
       "      <th>1</th>\n",
       "      <td>4.700400</td>\n",
       "      <td>0.432400</td>\n",
       "      <td>376.350800</td>\n",
       "      <td>1.545600</td>\n",
       "      <td>46.120000</td>\n",
       "    </tr>\n",
       "    <tr>\n",
       "      <th>2</th>\n",
       "      <td>1.763410</td>\n",
       "      <td>0.131456</td>\n",
       "      <td>507.732146</td>\n",
       "      <td>3.731073</td>\n",
       "      <td>19.003831</td>\n",
       "    </tr>\n",
       "    <tr>\n",
       "      <th>3</th>\n",
       "      <td>1.068846</td>\n",
       "      <td>0.238702</td>\n",
       "      <td>45.874567</td>\n",
       "      <td>0.355288</td>\n",
       "      <td>60.610577</td>\n",
       "    </tr>\n",
       "    <tr>\n",
       "      <th>4</th>\n",
       "      <td>2.800039</td>\n",
       "      <td>0.233514</td>\n",
       "      <td>204.993282</td>\n",
       "      <td>1.475405</td>\n",
       "      <td>32.424710</td>\n",
       "    </tr>\n",
       "  </tbody>\n",
       "</table>\n",
       "</div>"
      ],
      "text/plain": [
       "           Calls    Intern        Text      Data        Age\n",
       "Groups                                                     \n",
       "0       4.472227  1.010486   82.832146  2.009190  43.149798\n",
       "1       4.700400  0.432400  376.350800  1.545600  46.120000\n",
       "2       1.763410  0.131456  507.732146  3.731073  19.003831\n",
       "3       1.068846  0.238702   45.874567  0.355288  60.610577\n",
       "4       2.800039  0.233514  204.993282  1.475405  32.424710"
      ]
     },
     "execution_count": 31,
     "metadata": {},
     "output_type": "execute_result"
    }
   ],
   "source": [
    "telco.groupby(['Groups']).mean()"
   ]
  },
  {
   "cell_type": "markdown",
   "metadata": {},
   "source": [
    "### K-Means Clustering"
   ]
  },
  {
   "cell_type": "code",
   "execution_count": 32,
   "metadata": {},
   "outputs": [],
   "source": [
    "from sklearn.cluster import KMeans"
   ]
  },
  {
   "cell_type": "code",
   "execution_count": 33,
   "metadata": {},
   "outputs": [],
   "source": [
    "km = KMeans(n_clusters=5,n_init =40) #init = 40->K means++ take 40 randompoints and check which is best."
   ]
  },
  {
   "cell_type": "code",
   "execution_count": 34,
   "metadata": {},
   "outputs": [
    {
     "data": {
      "text/plain": [
       "KMeans(n_clusters=5, n_init=40)"
      ]
     },
     "execution_count": 34,
     "metadata": {},
     "output_type": "execute_result"
    }
   ],
   "source": [
    "#fit the k-means model\n",
    "km.fit(telco_scaled)"
   ]
  },
  {
   "cell_type": "code",
   "execution_count": 35,
   "metadata": {},
   "outputs": [
    {
     "data": {
      "text/plain": [
       "array([1, 1, 3, 1, 1, 2, 1, 3, 2, 4])"
      ]
     },
     "execution_count": 35,
     "metadata": {},
     "output_type": "execute_result"
    }
   ],
   "source": [
    "#cluster labels (checking for first 10)\n",
    "km.labels_[:10]"
   ]
  },
  {
   "cell_type": "code",
   "execution_count": 36,
   "metadata": {},
   "outputs": [
    {
     "data": {
      "text/plain": [
       "785.9517944329599"
      ]
     },
     "execution_count": 36,
     "metadata": {},
     "output_type": "execute_result"
    }
   ],
   "source": [
    "#within group SSE\n",
    "km.inertia_"
   ]
  },
  {
   "cell_type": "code",
   "execution_count": 40,
   "metadata": {},
   "outputs": [],
   "source": [
    "#calculating the within group SSE for different solutions\n",
    "I = []\n",
    "for k in [2,3,4,5,6,7]:\n",
    "    km = KMeans(n_clusters=k,n_init =40)\n",
    "    inertia = km.fit(telco_scaled).inertia_\n",
    "    I.append(inertia)"
   ]
  },
  {
   "cell_type": "code",
   "execution_count": 42,
   "metadata": {},
   "outputs": [
    {
     "data": {
      "image/png": "[encoded data removed]",
      "text/plain": [
       "<Figure size 576x504 with 1 Axes>"
      ]
     },
     "metadata": {},
     "output_type": "display_data"
    }
   ],
   "source": [
    "#ploting the scree plot\n",
    "plt.plot([2,3,4,5,6,7], I)\n",
    "plt.show()"
   ]
  },
  {
   "cell_type": "code",
   "execution_count": 43,
   "metadata": {},
   "outputs": [],
   "source": [
    "#home work:\n",
    "#compare k=5,in kmeans, vs agglomerative-complete linkeage cluster size 5"
   ]
  },
  {
   "cell_type": "code",
   "execution_count": null,
   "metadata": {},
   "outputs": [],
   "source": []
  }
 ],
 "metadata": {
  "kernelspec": {
   "display_name": "Python 3",
   "language": "python",
   "name": "python3"
  },
  "language_info": {
   "codemirror_mode": {
    "name": "ipython",
    "version": 3
   },
   "file_extension": ".py",
   "mimetype": "text/x-python",
   "name": "python",
   "nbconvert_exporter": "python",
   "pygments_lexer": "ipython3",
   "version": "3.8.3"
  }
 },
 "nbformat": 4,
 "nbformat_minor": 4
}
